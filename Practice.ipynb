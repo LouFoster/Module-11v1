{
 "cells": [
  {
   "cell_type": "code",
   "execution_count": 1,
   "id": "2ffef198",
   "metadata": {},
   "outputs": [],
   "source": [
    "#Imports scraping tools\n",
    "from splinter import Browser\n",
    "from bs4 import BeautifulSoup as soup\n",
    "from webdriver_manager.chrome import ChromeDriverManager"
   ]
  },
  {
   "cell_type": "code",
   "execution_count": 2,
   "id": "f810b727",
   "metadata": {},
   "outputs": [],
   "source": [
    "#set the executable path and initialize a browser by entering the following code:\n",
    "# Set up Splinter\n",
    "executable_path = {'executable_path': ChromeDriverManager().install()}\n",
    "browser = Browser('chrome', **executable_path, headless=False)"
   ]
  },
  {
   "cell_type": "code",
   "execution_count": 3,
   "id": "e7c76fbb-994a-4668-b852-4d7ee1eb665b",
   "metadata": {},
   "outputs": [],
   "source": [
    "Create a Beautiful Soup object of the scraped content, which we’ll use in the next stepurl = 'http://quotes.toscrape.com/'\n",
    "browser.visit(url)"
   ]
  },
  {
   "cell_type": "code",
   "execution_count": 4,
   "id": "b8f75261",
   "metadata": {},
   "outputs": [],
   "source": [
    "# Parse the HTML (use Beautiful Soup to parse the HTML code)\n",
    "html = browser.html\n",
    "html_soup = soup(html, 'html.parser')"
   ]
  },
  {
   "cell_type": "code",
   "execution_count": 5,
   "id": "bafd308c",
   "metadata": {},
   "outputs": [
    {
     "name": "stdout",
     "output_type": "stream",
     "text": [
      "<h2>Top Ten tags</h2>\n",
      "Top Ten tags\n"
     ]
    }
   ],
   "source": [
    "# Scrape the Title (ind the title and extract it)\n",
    "h2 = html_soup.find('h2')\n",
    "title = h2.text\n",
    "print(h2)\n",
    "print(title)"
   ]
  },
  {
   "cell_type": "code",
   "execution_count": null,
   "id": "5dd05267",
   "metadata": {},
   "outputs": [],
   "source": []
  },
  {
   "cell_type": "code",
   "execution_count": 6,
   "id": "11d8e2fc",
   "metadata": {},
   "outputs": [
    {
     "name": "stdout",
     "output_type": "stream",
     "text": [
      "Top Ten tags\n"
     ]
    }
   ],
   "source": [
    "#also directly access the title text by using \n",
    "title = html_soup.find('h2').text\n",
    "\n",
    "print(title)"
   ]
  },
  {
   "cell_type": "code",
   "execution_count": null,
   "id": "795a4897",
   "metadata": {},
   "outputs": [],
   "source": []
  },
  {
   "cell_type": "code",
   "execution_count": 7,
   "id": "8c0cf467",
   "metadata": {},
   "outputs": [
    {
     "name": "stdout",
     "output_type": "stream",
     "text": [
      "love\n",
      "inspirational\n",
      "life\n",
      "humor\n",
      "books\n",
      "reading\n",
      "friendship\n",
      "friends\n",
      "truth\n",
      "simile\n"
     ]
    }
   ],
   "source": [
    "# Scrape the top ten tags (scrape all the tags by using a for loop)\n",
    "tag_box = html_soup.find('div', class_='tags-box')\n",
    "# tag_box (The Beautiful Soup \"find\" method returns the first search result. \n",
    "# AND  The \"find_all\" method returns all the results.)\n",
    "tags = tag_box.find_all('a', class_='tag')\n",
    "\n",
    "\n",
    "#added a for loop. This loop cycles through the tags in the tags variable, \n",
    "#extracts the HTML code from each, and then prints only the text of each tag.\n",
    "for tag in tags:\n",
    "    word = tag.text\n",
    "    print(word)"
   ]
  },
  {
   "cell_type": "code",
   "execution_count": 8,
   "id": "e1bb7af9",
   "metadata": {},
   "outputs": [],
   "source": [
    "#We can now end the automated browsing session. \n",
    "\n",
    "        #Remember that until we do so, the browser continues to listen for instructions \n",
    "        #and use the computer's resources. \n",
    "           # Leaving an automated browser active when you don’t need it might \n",
    "            #unnecessarily strain its memory or battery.\n",
    "\n",
    "browser.quit()"
   ]
  }
 ],
 "metadata": {
  "kernelspec": {
   "display_name": "PythonData",
   "language": "python",
   "name": "pythondata"
  },
  "language_info": {
   "codemirror_mode": {
    "name": "ipython",
    "version": 3
   },
   "file_extension": ".py",
   "mimetype": "text/x-python",
   "name": "python",
   "nbconvert_exporter": "python",
   "pygments_lexer": "ipython3",
   "version": "3.9.13"
  }
 },
 "nbformat": 4,
 "nbformat_minor": 5
}
