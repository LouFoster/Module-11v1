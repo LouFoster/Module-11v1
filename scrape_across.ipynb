{
 "cells": [
  {
   "cell_type": "code",
   "execution_count": 1,
   "id": "71b3c34b",
   "metadata": {},
   "outputs": [],
   "source": [
    "#Set up a browser instance with Splinter \n",
    "    #and have it scrape the first Quotes to ScrapeLinks to an external site\n",
    "#Create a Beautiful Soup object of the scraped content, which we’ll use in the next step\n",
    "\n",
    "from splinter import Browser\n",
    "from bs4 import BeautifulSoup as soup\n",
    "from webdriver_manager.chrome import ChromeDriverManager\n",
    "\n",
    "executable_path = {'executable_path': ChromeDriverManager().install()}\n",
    "browser = Browser('chrome', **executable_path, headless=False)\n",
    "\n",
    "## Parse the HTML (use Beautiful Soup to parse the HTML code)\n",
    "    #Splinter browser visits the URL\n",
    "url = 'http://quotes.toscrape.com/'\n",
    "browser.visit(url)\n",
    "    #Then the HTML content of the page gets assigned to the html variable\n",
    "html = browser.html\n",
    "        #Then Beautiful Soup parses the HTML code\n",
    "quote_soup = soup(html, 'html.parser')"
   ]
  },
  {
   "cell_type": "code",
   "execution_count": 2,
   "id": "21a766fd",
   "metadata": {},
   "outputs": [
    {
     "name": "stdout",
     "output_type": "stream",
     "text": [
      "“The world as we have created it is a process of our thinking. It cannot be changed without changing our thinking.”\n",
      "“It is our choices, Harry, that show what we truly are, far more than our abilities.”\n",
      "“There are only two ways to live your life. One is as though nothing is a miracle. The other is as though everything is a miracle.”\n",
      "“The person, be it gentleman or lady, who has not pleasure in a good novel, must be intolerably stupid.”\n",
      "“Imperfection is beauty, madness is genius and it's better to be absolutely ridiculous than absolutely boring.”\n",
      "“Try not to become a man of success. Rather become a man of value.”\n",
      "“It is better to be hated for what you are than to be loved for what you are not.”\n",
      "“I have not failed. I've just found 10,000 ways that won't work.”\n",
      "“A woman is like a tea bag; you never know how strong it is until it's in hot water.”\n",
      "“A day without sunshine is like, you know, night.”\n"
     ]
    }
   ],
   "source": [
    "# Scrape all quotes on a single page\n",
    "        # tag_box (The Beautiful Soup \"find\" method returns the first search result. \n",
    "        # AND  The \"find_all\" method returns all the results.)\n",
    "quotes = quote_soup.find_all('span', class_='text')\n",
    "\n",
    "#added a for loop. This loop cycles through the tags in the tags variable, \n",
    "#extracts the HTML code from each, and then prints only the text of each tag\n",
    "for quote in quotes:\n",
    "    print(quote.text)"
   ]
  },
  {
   "cell_type": "code",
   "execution_count": null,
   "id": "02469531",
   "metadata": {},
   "outputs": [],
   "source": []
  },
  {
   "cell_type": "code",
   "execution_count": 3,
   "id": "88a8debe",
   "metadata": {},
   "outputs": [],
   "source": [
    "#automate clicking the Next button to go to the next page\n",
    "browser.links.find_by_partial_text('Next').click()"
   ]
  },
  {
   "cell_type": "code",
   "execution_count": null,
   "id": "8404f8ec",
   "metadata": {},
   "outputs": [],
   "source": []
  },
  {
   "cell_type": "code",
   "execution_count": null,
   "id": "739a785b",
   "metadata": {},
   "outputs": [],
   "source": []
  }
 ],
 "metadata": {
  "kernelspec": {
   "display_name": "PythonData",
   "language": "python",
   "name": "pythondata"
  },
  "language_info": {
   "codemirror_mode": {
    "name": "ipython",
    "version": 3
   },
   "file_extension": ".py",
   "mimetype": "text/x-python",
   "name": "python",
   "nbconvert_exporter": "python",
   "pygments_lexer": "ipython3",
   "version": "3.9.13"
  }
 },
 "nbformat": 4,
 "nbformat_minor": 5
}
